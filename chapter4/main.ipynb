{
 "cells": [
  {
   "cell_type": "code",
   "execution_count": null,
   "metadata": {},
   "outputs": [],
   "source": [
    "import os\n",
    "import re\n",
    "import pandas as pd\n",
    "import numpy as np\n",
    "import time\n",
    "import datetime\n",
    "import missingno as msno\n",
    "\n",
    "import warnings\n",
    "warnings.filterwarnings(\"ignore\")\n"
   ]
  },
  {
   "cell_type": "code",
   "execution_count": null,
   "metadata": {},
   "outputs": [],
   "source": [
    "import matplotlib\n",
    "import matplotlib.pyplot as plt\n",
    "\n",
    "matplotlib.rcParams['font.sans-serif'] = ['SimHei'] # 用黑体显示中文\n",
    "matplotlib.rcParams['axes.unicode_minus'] = False # 正常显示正负号"
   ]
  },
  {
   "cell_type": "code",
   "execution_count": null,
   "metadata": {},
   "outputs": [],
   "source": [
    "path = os.path.join(os.getcwd(), 'data')\n",
    "filename = 'german.csv'\n",
    "\n",
    "df = pd.read_csv(os.path.join(path, filename), delim_whitespace=True, header=None)\n",
    "\n",
    "columns = ['status_account', 'duration', 'credit_history', 'purpose', 'amount', 'svaing_account', 'present_emp', 'income_rate',\n",
    "           'personal_status', 'other_debtors', 'residence_info', 'property', 'age', 'inst_plans', 'housing', 'num_credits', 'job',\n",
    "           'dependents', 'telephone', 'foreign_worker', 'target']\n",
    "df.columns = columns # 变量重命名\n",
    "\n",
    "df.target =  df.target -1 # 将标签变量由状态1,2转换为0,1,0表示好用户，1表示坏用户"
   ]
  },
  {
   "cell_type": "code",
   "execution_count": null,
   "metadata": {},
   "outputs": [],
   "source": [
    "def category_continue_separation(df, feature_names):\n",
    "    \"\"\"区分离散变量与连续变量\n",
    "\n",
    "    Args:\n",
    "        df (DataFrame): 用于变量类型的数据表\n",
    "        feature_names (list): 变量列表\n",
    "    \"\"\"\n",
    "\n",
    "    categorical_var, numerical_var = [], []\n",
    "    if 'target' in feature_names:\n",
    "        feature_names.remove('target')\n",
    "    types = ['int', 'float', 'int32', 'float32', 'int64', 'float64']\n",
    "    numerical_var = list(df[feature_names].select_dtypes(include=types).columns.values)\n",
    "    categorical_var = [x for x in feature_names if x not in numerical_var]\n",
    "\n",
    "    return categorical_var, numerical_var\n",
    "    \n",
    "feature_names = list(df.columns)\n",
    "feature_names.remove('target')\n",
    "categorical_var, numerical_var = category_continue_separation(df, feature_names)"
   ]
  },
  {
   "cell_type": "code",
   "execution_count": null,
   "metadata": {},
   "outputs": [],
   "source": [
    "df.describe()"
   ]
  },
  {
   "cell_type": "markdown",
   "metadata": {},
   "source": [
    "手动注入“脏数据”以演示数据清洗，如离散变量中有特殊字符、不同的时间格式、重复样本与重复变量等"
   ]
  },
  {
   "cell_type": "code",
   "execution_count": null,
   "metadata": {},
   "outputs": [],
   "source": [
    "def add_str(x):\n",
    "\n",
    "    str_1 = ['%', ' ', '/t', '$', ';', '@']\n",
    "    str_2 = str_1[np.random.randint(0, high = len(str_1)-1)]\n",
    "    \n",
    "    return x+str_2"
   ]
  },
  {
   "cell_type": "code",
   "execution_count": null,
   "metadata": {},
   "outputs": [],
   "source": [
    "# 变量status_account随机加入特殊字符\n",
    "df.status_account = df.status_account.apply(add_str) \n",
    "df['status_account'].head()"
   ]
  },
  {
   "cell_type": "code",
   "execution_count": null,
   "metadata": {},
   "outputs": [],
   "source": [
    "# 特殊字符清洗\n",
    "df.status_account = df.status_account.apply(lambda x: re.sub('[%/t$;@]', '', x).replace(' ', '')) \n",
    "df.status_account.unique()"
   ]
  },
  {
   "cell_type": "code",
   "execution_count": null,
   "metadata": {},
   "outputs": [],
   "source": [
    "def add_time(num, style=\"%Y-%m-%d\"):\n",
    "\n",
    "    start_time = time.mktime((2010,1,1,0,0,0,0,0,0))\n",
    "    stop_time = time.mktime((2015,1,1,0,0,0,0,0,0))\n",
    "\n",
    "    re_time = []\n",
    "    for i in range(num):\n",
    "        rand_time = np.random.randint(start_time, stop_time)\n",
    "        date_tuple = time.localtime(rand_time)\n",
    "        re_time.append(time.strftime(style, date_tuple))\n",
    "\n",
    "    return re_time"
   ]
  },
  {
   "cell_type": "code",
   "execution_count": null,
   "metadata": {},
   "outputs": [],
   "source": [
    "# 添加两列时间格式不一致的数据\n",
    "df['apply_time'] = add_time(df.shape[0], \"%Y-%m-%d\")\n",
    "df['job_time'] = add_time(df.shape[0], \"%Y/%m/%d %H:%M:%S\")\n",
    "df[['apply_time', 'job_time']].head()"
   ]
  },
  {
   "cell_type": "code",
   "execution_count": null,
   "metadata": {},
   "outputs": [],
   "source": [
    "# 时间格式统一为\"%Y-%m-%d\"\n",
    "df['job_time'] = df['job_time'].apply(lambda x: x.split(' ')[0].replace('/', '-'))\n",
    "df['job_time'] = df['job_time'].apply(lambda x: datetime.datetime.strptime(x, \"%Y-%m-%d\"))\n",
    "df['apply_time'] = df['apply_time'].apply(lambda x: datetime.datetime.strptime(x, \"%Y-%m-%d\"))\n",
    "df[['apply_time', 'job_time']].head()"
   ]
  },
  {
   "cell_type": "code",
   "execution_count": null,
   "metadata": {},
   "outputs": [],
   "source": [
    "def add_row(df_temp, num):\n",
    "    index_1 = np.random.randint(low=0, high=df_temp.shape[0]-1, size=num)\n",
    "    return df_temp.loc[index_1]"
   ]
  },
  {
   "cell_type": "code",
   "execution_count": null,
   "metadata": {},
   "outputs": [],
   "source": [
    "# 添加冗余样本与原样本合并构造冗余数据集\n",
    "df_temp = add_row(df, 10)\n",
    "df = pd.concat([df, df_temp], axis=0, ignore_index=True)\n",
    "print(df.shape)\n",
    "df.head()"
   ]
  },
  {
   "cell_type": "code",
   "execution_count": null,
   "metadata": {},
   "outputs": [],
   "source": [
    "# 样本去冗余\n",
    "df.drop_duplicates(subset=None, keep='first', inplace=True)\n",
    "df.shape"
   ]
  },
  {
   "cell_type": "code",
   "execution_count": null,
   "metadata": {},
   "outputs": [],
   "source": [
    "pd.set_option('display.max_columns', 10) # 显示10列\n",
    "df.head()\n",
    "\n",
    "pd.set_option('display.max_columns', None) # 全部显示\n",
    "df.head()"
   ]
  },
  {
   "cell_type": "markdown",
   "metadata": {},
   "source": [
    "探索性数据分析"
   ]
  },
  {
   "cell_type": "code",
   "execution_count": null,
   "metadata": {},
   "outputs": [],
   "source": [
    "df[numerical_var].describe()"
   ]
  },
  {
   "cell_type": "code",
   "execution_count": null,
   "metadata": {},
   "outputs": [],
   "source": [
    "df.isnull().sum()"
   ]
  },
  {
   "cell_type": "code",
   "execution_count": null,
   "metadata": {},
   "outputs": [],
   "source": [
    "# 添加缺失值\n",
    "df.reset_index(drop=True, inplace=True)\n",
    "for i in feature_names:\n",
    "    num = np.random.randint(low=0, high=df.shape[0]-1)\n",
    "    index_1 = np.random.randint(low=0, high=df.shape[0]-1, size=num)\n",
    "    index_1 = np.unique(index_1)\n",
    "    df[i].loc[index_1] = np.nan"
   ]
  },
  {
   "cell_type": "markdown",
   "metadata": {},
   "source": [
    "缺失值检查"
   ]
  },
  {
   "cell_type": "code",
   "execution_count": null,
   "metadata": {},
   "outputs": [],
   "source": [
    "msno.bar(df, labels=True, figsize=(10, 6), fontsize=10)"
   ]
  },
  {
   "cell_type": "markdown",
   "metadata": {},
   "source": [
    "异常值检查"
   ]
  },
  {
   "cell_type": "code",
   "execution_count": null,
   "metadata": {},
   "outputs": [],
   "source": [
    "# 对连续变量绘制箱线图，观察是否有异常值\n",
    "plt.figure(figsize=(10, 6)) # 设置图形尺寸大小\n",
    "for j in range(1, len(numerical_var)+1):\n",
    "    plt.subplot(2,4,j)\n",
    "    df_temp = df[numerical_var[j-1]][~df[numerical_var[j-1]].isnull()]\n",
    "    plt.boxplot(\n",
    "        df_temp,\n",
    "        notch=False, # 中位线处不设置凹陷\n",
    "        widths=0.2,  # 设置箱体宽度\n",
    "        medianprops={'color':'red'}, # 中位线设置为红色\n",
    "        boxprops=dict(color='blue'), # 箱体边框设置为蓝色\n",
    "        labels=[numerical_var[j-1]], # 设置标签\n",
    "        whiskerprops={'color':'black'}, # 设置须的颜色，黑色\n",
    "        capprops={'color':'green'},  # 设置箱线图顶端和末端横线的属性，颜色为绿色\n",
    "        flierprops={'color':'purple', 'markeredgecolor':'purple'} # 异常值属性\n",
    "    )\n",
    "plt.show()"
   ]
  },
  {
   "cell_type": "markdown",
   "metadata": {},
   "source": [
    "查看数据分布"
   ]
  },
  {
   "cell_type": "code",
   "execution_count": null,
   "metadata": {},
   "outputs": [],
   "source": [
    "# 连续变量不同类别下的分布\n",
    "for i in numerical_var:\n",
    "    df_temp = df.loc[df[i].notnull(), [i, 'target']]\n",
    "    df_good = df_temp[df_temp.target == 0]\n",
    "    df_bad = df_temp[df_temp.target == 1]\n",
    "    # 计算统计量\n",
    "    valid = round(df_temp.shape[0] / df.shape[0] * 100, 2)\n",
    "    Mean = round(df_temp[i].mean(), 2)\n",
    "    Std = round(df_temp[i].std(), 2)\n",
    "    Max = round(df_temp[i].max(), 2)\n",
    "    Min = round(df_temp[i].min(), 2)\n",
    "    # 绘图\n",
    "    plt.figure(figsize=(10, 6))\n",
    "    fontsize_1 = 12\n",
    "    plt.hist(df_good[i], bins=20, alpha=0.5, label='好样本')\n",
    "    plt.hist(df_bad[i], bins=20, alpha=0.5, label='坏样本')\n",
    "    plt.ylabel(i, fontsize=fontsize_1)\n",
    "    plt.title('valid rate = {}%, Mean = {}, Std = {}, Max = {}, Min = {}'.format(valid, Mean, Std, Max, Min))\n",
    "    plt.legend()\n",
    "    # 保存图片\n",
    "    file = os.path.join(os.getcwd(), 'plot_num', i + '.png')\n",
    "    plt.savefig(file)\n",
    "    plt.close(1)"
   ]
  },
  {
   "cell_type": "code",
   "execution_count": null,
   "metadata": {},
   "outputs": [],
   "source": [
    "# 离散变量不同类别下的分布\n",
    "for i in categorical_var:\n",
    "    df_temp = df.loc[df[i].notnull(), [i, 'target']]\n",
    "    df_bad = df_temp[df_temp.target == 1]\n",
    "    valid = round(df_temp.shape[0] / df.shape[0] * 100, 2)\n",
    "    bad_rate, bin_rate, var_name = [], [], []\n",
    "    for j in df[i].unique():\n",
    "        if pd.isnull(j):\n",
    "            df_1 = df[df[i].isnull()]\n",
    "            bad_rate.append(sum(df_1.target) / df_1.shape[0])\n",
    "            bin_rate.append(df_1.shape[0] / df.shape[0])\n",
    "            var_name.append('NA')\n",
    "        else:\n",
    "            df_1 = df[df[i] == j]\n",
    "            bad_rate.append(sum(df_1.target) / df_1.shape[0])\n",
    "            bin_rate.append(df_1.shape[0] / df.shape[0])\n",
    "            var_name.append(j)\n",
    "    df_2 = pd.DataFrame({'var_name':var_name, 'bin_rate':bin_rate, 'bad_rate':bad_rate})\n",
    "    # 绘图\n",
    "    plt.figure(figsize=(10, 6))\n",
    "    fontsize_1 = 12\n",
    "    plt.bar(np.arange(1, df_2.shape[0]+1), df_2.bin_rate, 0.1, color='black', alpha=0.5, label='占比')\n",
    "    plt.xticks(np.arange(1, df_2.shape[0]+1), df_2.var_name)\n",
    "    plt.plot(np.arange(1, df_2.shape[0]+1), df_2.bad_rate, color='green', alpha=0.5, label='坏样本比率')\n",
    "    plt.ylabel(i, fontsize=fontsize_1)\n",
    "    plt.title('valid rate = {}%'.format(valid))\n",
    "    plt.legend()\n",
    "    # 保存图片\n",
    "    file = os.path.join(os.getcwd(), 'plot_cat', i + '.png')\n",
    "    plt.savefig(file)\n",
    "    plt.close(1)\n"
   ]
  },
  {
   "cell_type": "code",
   "execution_count": null,
   "metadata": {},
   "outputs": [],
   "source": []
  }
 ],
 "metadata": {
  "interpreter": {
   "hash": "4027a6336bc1541d1b89071d8afeb287e065fbc38311cf264ccc3ebf86fa9ab8"
  },
  "kernelspec": {
   "display_name": "Python 3.7.6 64-bit ('base': conda)",
   "name": "python3"
  },
  "language_info": {
   "codemirror_mode": {
    "name": "ipython",
    "version": 3
   },
   "file_extension": ".py",
   "mimetype": "text/x-python",
   "name": "python",
   "nbconvert_exporter": "python",
   "pygments_lexer": "ipython3",
   "version": "3.7.6"
  },
  "orig_nbformat": 4
 },
 "nbformat": 4,
 "nbformat_minor": 2
}
